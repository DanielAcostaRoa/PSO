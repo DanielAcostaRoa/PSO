{
  "nbformat": 4,
  "nbformat_minor": 0,
  "metadata": {
    "colab": {
      "name": "PSO.ipynb",
      "provenance": [],
      "authorship_tag": "ABX9TyOGoqcGBHqZdX0MXyWmVqxU",
      "include_colab_link": true
    },
    "kernelspec": {
      "name": "python3",
      "display_name": "Python 3"
    }
  },
  "cells": [
    {
      "cell_type": "markdown",
      "metadata": {
        "id": "view-in-github",
        "colab_type": "text"
      },
      "source": [
        "<a href=\"https://colab.research.google.com/github/DanielAcostaRoa/PSO/blob/master/PSO.ipynb\" target=\"_parent\"><img src=\"https://colab.research.google.com/assets/colab-badge.svg\" alt=\"Open In Colab\"/></a>"
      ]
    },
    {
      "cell_type": "markdown",
      "metadata": {
        "id": "VytIcx3zSB3z"
      },
      "source": [
        "#Particle Swarm Optimization\n",
        "\n",
        "**Output**: $x^{*}\\in R^n$ donde $x^{*} = \\arg\\min{f(x)}$\n",
        "\n",
        "**Input**: \\\\\n",
        "- funcionObjetivo: Funcion $f:R^n\\rightarrow R$ a minimizar (type: python function) \\\\\n",
        "- dim: Dimension $n$ (type: int) \\\\\n",
        "- num_particulas: Tamaño del enjambre de particulas (type: int) \\\\\n",
        "- om: Hiperparametro del algoritmo que controla la velocidad (type: int) \\\\\n",
        "- phi_p: Hiperparametro del algoritmo de memoria de su posicion (type: int) \\\\\n",
        "- phi_g: Hiperparametro del algoritmo de memoria global (type: int) \\\\\n",
        "- limInf: Limite inferior del espacio de busqueda (type: int) defalult = $-10^3$ \\\\\n",
        "- limSup: Limite superior del espacio de busqueda (type: int) defalult = $10^3$ \\\\\n",
        "- maxIt: Número máximo de iteraciones (type: int) defalult = $10^3$ \\\\\n",
        "- flag: False para no mostrar grafico de primeras 10 iteraciones (type: bool) defalult = True \\\\\n",
        "\n",
        "Particle Swarm Optimization es un metaheuristica para optimizacion de funciones $f:R^n\\rightarrow R$, en este caso se minimiza la función y se devuelve el mejor vector solucion encontrado. Los últimos 3 paramentos de entrada son hiperparametros del algoritmo que mejoran la convergencia y solución, para cada problema en particular se debe encontrar los mejores hiperparametros."
      ]
    },
    {
      "cell_type": "code",
      "metadata": {
        "id": "u6oK6iYS9Vpk"
      },
      "source": [
        "import numpy as np\n",
        "import matplotlib.pyplot as plt\n",
        "def PSO_optimizer(funcionObjetivo, dim, num_particulas, om, phi_p, phi_g, limInf = -10**3, limSup = 10**3, maxIt = 10**3, flag=True):\n",
        "  particulas_pos = [np.random.uniform(limInf,limSup,dim) for i in range(num_particulas)]\n",
        "  particulas_posBest = np.copy(particulas_pos)\n",
        "  particulas_eval = [funcionObjetivo(x) for x in particulas_pos]\n",
        "  particulas_vel = [np.random.uniform(-np.abs(limSup-limInf),np.abs(limSup-limInf),dim) for i in range(num_particulas)]\n",
        "  p_global_best = np.argmax(particulas_eval)\n",
        "  mejores = []\n",
        "  for iteracion in range(maxIt):\n",
        "    for p_v in range(num_particulas):\n",
        "      rp = np.random.uniform(0,1,dim)\n",
        "      rg = np.random.uniform(0,1,dim)\n",
        "      particulas_vel[p_v] = om*particulas_vel[p_v] + phi_p*rp*(particulas_posBest[p_v] - particulas_pos[p_v]) + phi_g*rg*(particulas_posBest[p_global_best] - particulas_pos[p_v])\n",
        "      particulas_pos[p_v] = particulas_pos[p_v] + particulas_vel[p_v]\n",
        "      if funcionObjetivo(particulas_pos[p_v])< funcionObjetivo(particulas_posBest[p_v]):\n",
        "        particulas_posBest[p_v] = particulas_pos[p_v]\n",
        "        if funcionObjetivo(particulas_posBest[p_v]) < funcionObjetivo(particulas_posBest[p_global_best]):\n",
        "          p_global_best = p_v\n",
        "    mejores.append(funcionObjetivo(particulas_posBest[p_global_best]))\n",
        "  if flag:\n",
        "    print(\"Funcion objetivo = \", funcionObjetivo(particulas_posBest[p_global_best]))\n",
        "    plt.xlabel(\"Primeras iteraciones\")\n",
        "    plt.ylabel(\"f(best)\")\n",
        "    plt.plot(np.arange(0,20),mejores[0:20])\n",
        "  return particulas_posBest[p_global_best]"
      ],
      "execution_count": null,
      "outputs": []
    },
    {
      "cell_type": "markdown",
      "metadata": {
        "id": "nWQoE4vBkrY1"
      },
      "source": [
        "##Ejemplos de usos"
      ]
    },
    {
      "cell_type": "markdown",
      "metadata": {
        "id": "ZedK0AzuXB9n"
      },
      "source": [
        "### Ejemplos de funciones a optimizar:"
      ]
    },
    {
      "cell_type": "code",
      "metadata": {
        "id": "APRzSAdSGb2v"
      },
      "source": [
        "def esfera(x):\n",
        "  suma = 0 \n",
        "  for i in x:\n",
        "    suma+=i**2\n",
        "  return suma"
      ],
      "execution_count": null,
      "outputs": []
    },
    {
      "cell_type": "code",
      "metadata": {
        "id": "zrSmlEJ3LRu1"
      },
      "source": [
        "def rosenbrock(x):\n",
        "  suma = 0\n",
        "  for i in range(len(x)-1):\n",
        "    suma += 100*(x[i+1]-x[i]**2)**2 + (1-x[i])**2\n",
        "  return suma"
      ],
      "execution_count": null,
      "outputs": []
    },
    {
      "cell_type": "markdown",
      "metadata": {
        "id": "uYLQTehKYr05"
      },
      "source": [
        "###Ejemplo de uso con la esfera, rapida convergencia"
      ]
    },
    {
      "cell_type": "code",
      "metadata": {
        "id": "9Jrd1qN5G5j3",
        "colab": {
          "base_uri": "https://localhost:8080/",
          "height": 297
        },
        "outputId": "9d3126fd-7133-4881-c125-7bee498bed4e"
      },
      "source": [
        "x_best = PSO_optimizer(esfera,10 ,100,np.random.uniform(0,1),np.random.uniform(0,1),np.random.uniform(0,1),-1,1,100)"
      ],
      "execution_count": null,
      "outputs": [
        {
          "output_type": "stream",
          "text": [
            "Funcion objetivo =  0.005119282583320175\n"
          ],
          "name": "stdout"
        },
        {
          "output_type": "display_data",
          "data": {
            "image/png": "[encoded data removed]",
            "text/plain": [
              "<Figure size 432x288 with 1 Axes>"
            ]
          },
          "metadata": {
            "tags": [],
            "needs_background": "light"
          }
        }
      ]
    },
    {
      "cell_type": "markdown",
      "metadata": {
        "id": "y5_vI1txY_TZ"
      },
      "source": [
        "###Ejemplos de uso con la rosembrok, lenta convergencia"
      ]
    },
    {
      "cell_type": "code",
      "metadata": {
        "id": "U-s07NDXJ6RN",
        "colab": {
          "base_uri": "https://localhost:8080/",
          "height": 298
        },
        "outputId": "06102eb7-3d61-4e3e-922a-bff4a37fdeeb"
      },
      "source": [
        "#Hyperparametros aleatorios, correr varias veces para notar diferencias (aveces cae en minimo local).\n",
        "x_best = PSO_optimizer(rosenbrock, 10 ,200,np.random.uniform(0,1),np.random.uniform(0,1),np.random.uniform(0,1),-3,3,1000)"
      ],
      "execution_count": null,
      "outputs": [
        {
          "output_type": "stream",
          "text": [
            "Funcion objetivo =  11.053024787559663\n"
          ],
          "name": "stdout"
        },
        {
          "output_type": "display_data",
          "data": {
            "image/png": "[encoded data removed]",
            "text/plain": [
              "<Figure size 432x288 with 1 Axes>"
            ]
          },
          "metadata": {
            "tags": [],
            "needs_background": "light"
          }
        }
      ]
    },
    {
      "cell_type": "code",
      "metadata": {
        "id": "9j5LQvXrLKoA",
        "colab": {
          "base_uri": "https://localhost:8080/",
          "height": 334
        },
        "outputId": "05351c3d-aa30-4de9-e3fc-437ef44053d7"
      },
      "source": [
        "#Convergencia a minimo global con hiperparametros fijados previamente a prueba y error\n",
        "x_best = PSO_optimizer(rosenbrock, 10 ,200,0.9,0.4,0.9,-3,3,1000)\n",
        "print(x_best)"
      ],
      "execution_count": null,
      "outputs": [
        {
          "output_type": "stream",
          "text": [
            "Funcion objetivo =  0.002767893703170924\n",
            "[0.99958565 0.99960156 0.99924193 0.99855206 0.99727462 0.99413152\n",
            " 0.9886513  0.97727549 0.95502943 0.91202062]\n"
          ],
          "name": "stdout"
        },
        {
          "output_type": "display_data",
          "data": {
            "image/png": "[encoded data removed]",
            "text/plain": [
              "<Figure size 432x288 with 1 Axes>"
            ]
          },
          "metadata": {
            "tags": [],
            "needs_background": "light"
          }
        }
      ]
    },
    {
      "cell_type": "markdown",
      "metadata": {
        "id": "FcHVNhlmlgX1"
      },
      "source": [
        "Falta estudiar la relación entre hiperparametros y factores como velocidad de convergencia, facilidad para salir de minimos locales, etc. ver https://es.wikipedia.org/wiki/Optimizaci%C3%B3n_por_enjambre_de_part%C3%ADculas para detalles sobre la seleccion de hiperparametros"
      ]
    }
  ]
}